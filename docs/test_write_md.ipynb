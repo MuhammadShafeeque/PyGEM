{
 "cells": [
  {
   "cell_type": "markdown",
   "metadata": {},
   "source": [
    "# Introduction\n",
    "The Python Glacier Evolution Model (PyGEM) is an open-source glacier evolution model coded in Python that is designed to model the transient evolution of glaciers on regional and global scales. Each glacier is modeled independently using a given time step and elevation bins. The model computes the climatic mass balance (i.e., snow accumulation minus melt plus refreezing) for each elevation bin and each monthly time step. Glacier geometry is updated annually. The model outputs a variety of data including monthly mass balance and its components (accumulation, melt, refreezing, frontal ablation, glacier runoff),  and annual volume, volume below sea level, and area.\n",
    "\n",
    "PyGEM has a modular framework that allows different schemes to be used for model calibration or model physics (e.g., ablation, accumulation, refreezing, glacier dynamics). The most recent version of PyGEM, published in <em>Science</em> [(Rounce et al. 2023)](https://www.science.org/doi/10.1126/science.abo1324), has been made compatible with the Open Global Glacier Model [(OGGM)](https://oggm.org/) to both leverage the pre-processing tools (e.g., digital elevation models, glacier characteristics) and their advances with respect to modeling glacier dynamics and ice thickness inversions.\n",
    "\n",
    "## Model Inputs\n",
    "The minimum data required to run the model is a glacier inventory, glacier characteristics (ice thickness, hypsometry, etc.), climate data, and mass balance data for calibration (Table 1). The model uses glacier outlines provided by the [Randolph Glacier Inventory](https://www.glims.org/RGI/) (RGI Consortium 2017; RGI 6.0 contains 215,547 glaciers globally). For debris-covered glaciers, spatially distributed sub-debris melt enhancement factors can be used to account for the enhanced or suppressed melting depending on the debris thickness [(Rounce et al. 2021)](https://agupubs.onlinelibrary.wiley.com/doi/full/10.1029/2020GL091311). OGGM is used to select a digital elevation model (DEM) for each glacier and bin the data according to the glacier central flowlines. OGGM can also be used to estimate each glacier’s initial ice thickness or use existing ice thickness estimates available from the [OGGM Shop](https://docs.oggm.org/en/stable/shop.html).\n",
    "\n",
    "For present-day (2000-2019) model runs, PyGEM currently uses monthly near-surface air temperature and precipitation data from ERA5 [(Hersbach et al. 2020)](https://rmets.onlinelibrary.wiley.com/doi/full/10.1002/qj.3803). Air temperature lapse rates are estimated using monthly air temperature data from various pressure levels. A second option is available to derive lapse rates from the neighboring pixels; however, this is for glaciers near the coast and therefore is not recommended. Additionally, the monthly temperature standard deviation is required if incorporating sub-monthly temperature variability in ablation (see below). Note that historical runs (e.g., 1980-2000) are challenging due to the lack of glacier inventories in the past; hence, one can assume the glacier area is constant or run the model in reverse (e.g., 1999, 1998, … , 1980). However, due to nonlinearities associated with the glacier dynamics running if the model is run in reverse and then forward, the glacier areas will be different in 2000 than the initial dataset; hence, caution must be used and the results should be evaluated carefully.\n",
    "\n",
    "For future (e.g., 2000-2100) model runs, PyGEM currently uses an ensemble of General Circulation Models (GCMs) and Shared Socioeconomic Pathways (SSPs) from the Coupled Model Intercomparison Project Phase 6 (CMIP6). The model can also be run using Representative Concentration Pathways (RCPs) associated with CMIP5. Future simulations are adjusted using additive factors for air temperature and multiplicative factors for precipitation to remove any bias between the GCMs and ERA5 data over the calibration period (2000-2019). Additional bias corrections options will be available in the future.\n",
    "\n",
    "Table 1. Data requirements for PyGEM. Optional datasets are shown in italics.\n",
    "\n",
    "| Component | Dataset | References |\n",
    "| :--- | :--- | :--- |\n",
    "| Glacier data | 1: Randolph Glacier Inventory Version 6.0 <br><em>2: Sub-debris melt factors </em>| [RGI Consortium (2017)](https://www.glims.org/RGI/)<br> [Rounce et al. (2021)](https://agupubs.onlinelibrary.wiley.com/doi/full/10.1029/2020GL091311)|\n",
    "| Climate data | 1: ERA5 monthly air temperature, monthly precipitation, and orography <br><em>2: ERA5 monthly lapse rates (from pressure level data) and monthly air temperature variance (from ERA5 hourly data)</em> <br>3: CMIP5 or CMIP6 monthly air temperature, monthly precipitation, and orography | [Hersbach et al. (2020)](https://rmets.onlinelibrary.wiley.com/doi/full/10.1002/qj.3803) |\n",
    "| Mass balance data | 1: Geodetic glacier-wide mass balance (m w.e. yr-1) <br><em>2: All other data need to be programmed</em> | [Hugonnet et al. (2021)](https://www.nature.com/articles/s41586-021-03436-z) |\n",
    "| <em>Frontal ablation data (optional) </em> | <em>1: Frontal ablation per glacier (Gt yr-1) <br>Used to calibrate marine-terminating glaciers </em> | [Osmanoglu et al. (2013;](https://www.cambridge.org/core/journals/annals-of-glaciology/article/surface-velocity-and-ice-discharge-of-the-ice-cap-on-king-george-island-antarctica/62E511405ADD31A43FF52CDBC727A9D0) [2014)](https://tc.copernicus.org/articles/8/1807/2014/); [Minowa et al. (2021)](https://www.sciencedirect.com/science/article/pii/S0012821X21000704); [Kochtitzky et al. (2022)](https://www.nature.com/articles/s41467-022-33231-x) |\n",
    "| <em>Ice thickness data (optional) </em>| <em>1: Spatially distributed ice thickness data <br>Used to calibrate creep parameter to match volume of existing ice thickness dataset </em>| [Farinotti et al. (2019)](https://www.nature.com/articles/s41561-019-0300-3)|\n",
    "\n",
    "## Model calibration and validation data\n",
    "Model parameters need to be calibrated and results should be validated using some form of mass balance (glaciological, geodetic, or gravimetric), glacier runoff, snowline, or equilibrium line altitude data (Table 1). Additional calibration data is required to account for frontal ablation associated with marine-terminating glaciers. We envision the model continuously incorporating new large-scale systematic datasets as they become available. \n",
    "\n",
    "The model was originally developed to integrate large-scale systematic glacier-wide mass balance data from 2000-2018 in High Mountain Asia [(Shean et al. 2020)](https://www.frontiersin.org/articles/10.3389/feart.2019.00363/full) and now uses a global dataset from 2000-2019 [(Hugonnet et al. 2021)](https://www.nature.com/articles/s41586-021-03436-z). The default frontal ablation data is currently from various datasets spanning 2000 to 2020 from the Northern Hemisphere [(Kochtitzky et al. 2022)](https://www.nature.com/articles/s41467-022-33231-x), South America [(Minowa et al. 2021)](https://www.sciencedirect.com/science/article/pii/S0012821X21000704), and Antarctica [(Osmanoglu et al. 2013;](https://www.cambridge.org/core/journals/annals-of-glaciology/article/surface-velocity-and-ice-discharge-of-the-ice-cap-on-king-george-island-antarctica/62E511405ADD31A43FF52CDBC727A9D0) [2014)](https://tc.copernicus.org/articles/8/1807/2014/). For model validation, annual and seasonal glaciological glacier-wide mass balance data from 1979 to 2019 have been used [(WGMS 2021)](https://wgms.ch/data_databaseversions/).\n",
    "\n",
    "## Spatial and Temporal Resolution\n",
    "Each glacier is modeled independently. The model is currently set up to use a monthly timestep and elevation bins. We plan to add options to include daily timesteps in the future. The elevation bins can be specified in pre-processing with OGGM."
   ]
  },
  {
   "cell_type": "markdown",
   "metadata": {},
   "source": []
  },
  {
   "cell_type": "markdown",
   "metadata": {},
   "source": [
    "# Mass Balance\n",
    "\n",
    "PyGEM computes the climatic mass balance for each elevation bin and timestep, estimates frontal ablation for marine-terminating glaciers at the end of each year (if this process is included), and updates the glacier geometry annually. The convention below follows [Cogley et al. (2011)](https://wgms.ch/downloads/Cogley_etal_2011.pdf). The total glacier-wide mass balance ($\\Delta M$) is thus estimated as:\n",
    "$$\\Delta M = B_{clim} + A_{f}/S $$\n",
    "\n",
    "where $B_{clim}$ is the climatic mass balance in specific units, i.e. mass change per unit area (m w.e.), $A_{f}$ is frontal ablation, and $S$ is the glacier area. The basal mass balance is assumed to be zero.\n",
    "\n",
    "The climatic mass balance for each elevation bin ($b_{clim}$) is computed according to:\n",
    "$$b_{clim} = a + c + R$$\n",
    "\n",
    "where $a$ is the ablation, $c$ is accumulation, and $R$ is refreezing (all in units of m w.e.). Mass loss is negative and mass gain is positive. The glacier-wide specific climatic mass balance ($B_{clim}$) is thus calculated by:\n",
    "$$\\sum_{i=1}^{nbins} b_{clim,i} $$\n",
    "\n",
    "The model offers alternative methods for calculating the mass balance components and accounting for glacier geometry changes (i.e., representing glacier dynamics). These vary in level of complexity and computational expense. The current options for each component are described below:"
   ]
  },
  {
   "cell_type": "markdown",
   "metadata": {},
   "source": [
    "## Summary of model parameters\n",
    "Below is a summary of some of the key mass balance model parameters, their symbols, units, and the values used in PyGEM. Note that some parameters are calculated, others are calibrated, and others may be specified by the user in the input file.\n",
    "\n",
    "| Parameter | Symbol | Unit | Value |\n",
    "| :--- | :--- | :--- | :--- |\n",
    "| Ablation | $a$ | m w.e. | calculated |\n",
    "| Accumulation | $c$ | m w.e. | calculated |\n",
    "| Refreeze | $R$ | m w.e. | calculated |\n",
    "| Frontal ablation | $A_{f}$ | m w.e. | calculated |\n",
    "| Degree-day factor of snow | $f_{snow}$ | mm w.e. d$^{-1}$ K$^{-1}$ | calibrated |\n",
    "| Degree-day factor of ice | $f_{ice}$ | mm w.e. d$^{-1}$ K$^{-1}$ | $f_{snow}$/0.7 <br>(user-specified) |\n",
    "| Degree-day factor of firn | $f_{firn}$ | mm w.e. d$^{-1}$ K$^{-1}$ | $\\frac{f_{snow}+f_{ice}}{2}$ |\n",
    "| Degree-day factor of debris | $f_{debris}$ | mm w.e. d$^{-1}$ K$^{-1}$ | $E_{d} \\cdot f_{ice}$ |\n",
    "| Sub-debris melt enhancement factor | $E_{d}$ | - | 1 if no debris; <br> otherwise from [Rounce et al. (2021)](https://agupubs.onlinelibrary.wiley.com/doi/full/10.1029/2020GL091311) |\n",
    "| Temperature bias correction | $T_{bias}$ | K | calibrated |\n",
    "| Threshold temperature (rain/snow) | $T_{snow}$ | $^{\\circ}$C | 1 <br> (user-specified) |\n",
    "| Precipitation correction factor | $k_{p}$ | - | calibrated |\n",
    "| Precipitation gradient | $d_{prec}$ | m$^{-1}$ | 0.0001 <br> (user-specified) |\n",
    "| Frontal ablation scaling parameter | $k$ | yr$^{-1}$ | calibrated |"
   ]
  },
  {
   "cell_type": "code",
   "execution_count": null,
   "metadata": {},
   "outputs": [],
   "source": []
  },
  {
   "cell_type": "markdown",
   "metadata": {},
   "source": [
    "## Ablation\n",
    "There are currently two model options for ablation. Both model options use a degree-day model ($f$). \n",
    "\n",
    "### Option 1: monthly temperatures\n",
    "The first calculates ablation ($a$) using the mean monthly temperature:\n",
    "$$a=f_{snow/ice/firn/debris} \\cdot T_{m}^{+} \\cdot n$$\n",
    "\n",
    "where $f$ is the degree-day factor of snow, ice, firn, or debris (m w.e. d-1 °C$^{-1}$), $T_{m}^{+}$ is the positive monthly mean temperature (°C), and $n$ is the number of days per month. \n",
    "\n",
    "### Option 2: monthly temperatures with daily variance\n",
    "The second option incorporates the daily variance associated with the temperature for each month according to Huss and Hock (2015):\n",
    "$$a=f_{snow/ice/firn/debris} \\cdot \\sum_{i=1}^{ndays} T_{d,i}^{+} $$\n",
    "\n",
    "where $T_{d}$ is the daily positive mean air temperature and is estimated by superimposing random variability from the standard deviation of the daily temperature for each month.\n",
    "\n",
    "The degree-day factors for snow, ice, firn, and debris depend on the surface type option that is chosen by the user (see Section 5). The values of $f$ for these various surface types are assumed to be related to one another to reduce the number of model parameters. The default ratio of the $f_{snow}$ to the $f_{ice}$ is 0.7, and $f_{firn}$ is assumed to be the mean of the $f_{snow}$ and $f_{ice}$; however, the user may change these values in the input file if desired. The values for $f_{debris}$ are equal to $f_{ice}$ multiplied by the mean sub-debris melt enhancement factor [(Rounce et al. 2021)](https://agupubs.onlinelibrary.wiley.com/doi/full/10.1029/2020GL091311) for the given elevation bin.\n",
    "\n",
    "### Temperature at elevation bins\n",
    "Temperature for each elevation bin ($T_{bin}$) is determined by selecting the temperature from the gridded climate data ($T_{gcm}$) based on the nearest neighbor, which is then downscaled to the elevation bins on the glacier according to:\n",
    "$$T_{bin} = T_{gcm} + lr_{gcm} \\cdot (z_{ref} - z_{gcm}) + lr_{glac} \\cdot (z_{bin} - z_{ref}) + T_{bias}$$\n",
    "\n",
    "where $lr_{gcm}$ and $lr_{glac}$ are lapse rates (°C m-1) associated with downscaling the climate data to the glacier and then over the glacier elevation bins, respectively; $z_{ref}$, $z_{gcm}$, and $z_{bin}$ are the elevations from the glacier’s reference point (median or mean elevation), the climate data, and the elevation bin, respectively; and $T_{bias}$ is the temperature bias. The temperature bias is one of three model parameters that is calibrated and serves to account for any biases resulting from the use of coarse climate data that is unable to capture local topographic variations. By default, the $lr_{gcm}$ and $lr_{glac}$ are assumed to be equal."
   ]
  },
  {
   "cell_type": "markdown",
   "metadata": {},
   "source": [
    "## Accumulation\n",
    "Accumulation ($c$) is calculated for each elevation bin as a function of the precipitation ($P_{bin}$), air temperature ($T_{bin}$), and the snow temperature threshold ($T_{snow}$).  There are two options for estimating accumulation based on how to classify precipitation as liquid or solid. \n",
    "\n",
    "### Option 1: Threshold +/- 1$^{\\circ}$C\n",
    "The first (default) option is to estimate the ratio of liquid and solid precipitation based on the air temperature:\n",
    "$$c = \\delta \\cdot P_{bin}$$\n",
    "where $\\delta=1$; if $T_{bin} \\leq T_{snow}-1$\n",
    "\n",
    "&nbsp;&nbsp;&nbsp;&nbsp;&nbsp;&nbsp;&nbsp;&nbsp;&nbsp; $\\delta=0$; if $T_{bin} \\geq T_{snow}+1$\n",
    "\n",
    "&nbsp;&nbsp;&nbsp;&nbsp;&nbsp;&nbsp;&nbsp;&nbsp;&nbsp; $\\delta=0.5-(T_{bin}-T_{snow})/2$; if $T_{snow}-1 < T_{bin} < T_{snow}+1$\n",
    "\n",
    "where $P_{bin}$ is the monthly precipitation and $\\delta$ is the fraction of solid precipitation each month. $T_{snow}$ typically ranges from 0 – 2 $^{\\circ}$C (Radić and Hock, 2011; Huss and Hock, 2015) and is typically assumed to be 1$^{\\circ}$C.  \n",
    "\n",
    "### Option 2: Single threshold\n",
    "The alternative option is to classify precipitation as snow or rain based on a single threshold.\n",
    "\n",
    "### Precipitation at elevation bins\n",
    "Precipitation at each elevation bin of the glacier ($P_{bin}$) is determined by selecting the precipitation from the gridded climate data ($P_{gcm}$) based on the nearest neighbor, which is then downscaled to the elevation bins on the glacier:\n",
    "$$P_{bin} = P_{GCM} \\cdot k_{p} \\cdot (1 + d_{prec} \\cdot (z_{bin} - z_{ref})$$\n",
    "where $k_{p}$ is the precipitation factor and $d_{prec}$ is the precipitation gradient. The precipitation factor is a model parameter that is used to adjust from the climate data to the glacier, which could be caused by local topographic effects due to differences in elevation, rain shadow effects, etc. The precipitation gradient is another model parameter, which is used to redistribute the precipitation along the glacier and can be thought of as a precipitation lapse rate. Typical values for the precipitation gradient vary from 0.01 – 0.025% m$^{-1}$([Huss and Hock, 2015](https://www.frontiersin.org/articles/10.3389/feart.2015.00054/full) who cited [WGMS, 2012](https://wgms.ch/products_fog/)). The default assumes a precipitation gradient of 0.01% m$^{-1}$ to reduce the number of model parameters.\n",
    "\n",
    "Additionally, for glaciers with high relief (> 1000 m), the precipitation in the uppermost 25% of the glacier’s elevation is reduced using an exponential function ([Huss and Hock, 2015](https://www.frontiersin.org/articles/10.3389/feart.2015.00054/full)):\n",
    "$$P_{bin,exp} = P_{bin} \\cdot exp(\\frac{z_{bin} - z_{75\\%}}{z_{max} - z_{75\\%}}) $$\n",
    "where $P_{bin,exp}$ is the adjusted precipitation, and $z_{max}$ and $z_{75\\%}$ are the elevation of the glacier maximum and the glacier’s 75th percentile elevation, respectively. The adjusted precipitation cannot be lower than 87.5% of the maximum precipitation on the glacier. This adjustment accounts for the reduced air moisture and increased wind erosion at higher elevations ([Benn and Lehmkuhl, 2000](https://risweb.st-andrews.ac.uk/portal/en/researchoutput/mass-balance-and-equilibriumline-altitudes-of-glaciers-in-highmountain-environments(080f17fc-33dd-4805-bc97-a5aaa018a457)/export.html))."
   ]
  },
  {
   "cell_type": "markdown",
   "metadata": {},
   "source": [
    "## Refreezing\n",
    "There are two model options for computing refreezing.  The default option estimates refreezing based on the mean annual air temperature ([Woodward et al. 1997](https://www.cambridge.org/core/journals/annals-of-glaciology/article/influence-of-superimposedice-formation-on-the-sensitivity-of-glacier-mass-balance-to-climate-change/84DFA08E9CC8F28BE0729F1EBF4DA4E1)), while the alternative is based on heat conduction ([Huss and Hock, 2015](https://www.frontiersin.org/articles/10.3389/feart.2015.00054/full)).\n",
    "\n",
    "### Option 1: Mean annual air temperature\n",
    "For the default option, refreezing (R) is calculated for each elevation bin as a function of its weighted annual mean air temperature (Ta) following [Woodward et al. (1997)](https://www.cambridge.org/core/journals/annals-of-glaciology/article/influence-of-superimposedice-formation-on-the-sensitivity-of-glacier-mass-balance-to-climate-change/84DFA08E9CC8F28BE0729F1EBF4DA4E1)):\n",
    "$$R = -0.0069 \\cdot T_{a} + 0.000096$$\n",
    "The weighted annual mean accounts for the number of days in each month. Refreezing cannot be negative. The model assumes that refreezing occurs in the snowpack as opposed to being superimposed ice, so in the ablation zone the refreezing cannot exceed the snow depth. Since this option estimates annual refreezing, the equation above provides the maximum amount of potential refreezing. Each year, the potential refreezing is reset in October as this is the transition season from predominantly summer melt to winter accumulation. Therefore, it is possible that accumulated snow may melt and refreeze diurnally. The model replicates this physical behavior by first determining the amount of snow that has melted in that month. If the refreezing potential is greater than zero, the model assumes the snow melts and refreezes in the snow pack. Refreezing cannot exceed the amount of snow melt in any given month. The amount of refreezing is then subtracted from the potential refreezing until the potential refreezing is fully depleted or reset. Once the snow and refreezing completely melts, the model can melt the underlying ice/firn/snow.  This model is used as the default because it is computationally cheap compared to the alternative.\n",
    "\n",
    "### Option 2: Heat conduction\n",
    "The alternative option is to estimate refreezing using modeled snow and firn temperatures based on heat conduction as described by [Huss and Hock (2015)](https://www.frontiersin.org/articles/10.3389/feart.2015.00054/full). This option is significantly more computationally expensive. The code for this section was translated from the IDL code used in Huss and Hock (2015), which potentially has an error in the heat conduction equation where the temperature in each layer is divided by a factor of 2 that Lilian Schuster identified is not physically-derived (as of 2021 - this error has not been fixed). This option should thus be used with caution until further developed."
   ]
  },
  {
   "cell_type": "markdown",
   "metadata": {},
   "source": [
    "## Frontal Ablation\n",
    "For marine-terminating glaciers, frontal ablation is modeled using a frontal ablation parameterization coupled to the ice dynamical model (i.e., the glacier dynamics parameterization). Given the coupling to the dynamical model, frontal ablation is accounted for on an annual timestep and the code for the frontal ablation parameterization is located with the dynamical model. OGGM provides a nice overview of the frontal ablation parameterization in one of their advanced tutorials:\n",
    "\n",
    "https://oggm.org/tutorials/stable/notebooks/kcalving_parameterization.html\n",
    "\n",
    "The same parameterization is included for mass redistribution curves in PyGEM.\n",
    "\n",
    "Frontal ablation ($A_{f}$) computes the mass that is removed at the glacier front when the bedrock is below sea level using an empirical formula following [Oerlemans and Nick (2005)](https://www.cambridge.org/core/journals/annals-of-glaciology/article/minimal-model-of-a-tidewater-glacier/C6B72F547D8C44CDAAAD337E1F2FC97F):\n",
    "$$A_{f} = k \\cdot d \\cdot H_{f} \\cdot w$$\n",
    "where $k$ is the frontal ablation scaling parameter (yr$^{-1}$), $d$ is the water depth at the calving front (m), $H_{f}$ is the ice thickness at the calving front, and $w$ is the glacier width at the calving front. Over the next century, many marine-terminating glaciers are projected to retreat onto land based on present-day frontal ablation rates ([Rounce et al. 2023](https://www.science.org/doi/10.1126/science.abo1324)); hence, the maximum frontal ablation rate is constrained by the mass of ice where the bed elevation of the bin is located below sea level. The user is also able to specify the water level (default is 0), which supports the application of the parameterization to lake-terminating glaciers in the future."
   ]
  },
  {
   "cell_type": "code",
   "execution_count": null,
   "metadata": {},
   "outputs": [],
   "source": []
  },
  {
   "cell_type": "markdown",
   "metadata": {},
   "source": [
    "# Glacier Dynamics\n",
    "Glacier dynamics in large-scale glacier evolution models typically rely on geometry changes like volume-area-length scaling (e.g., [Radić and Hock, 2011](https://www.nature.com/articles/ngeo1052)), mass redistribution using empirical equations (e.g., [Huss and Hock, 2015](https://www.frontiersin.org/articles/10.3389/feart.2015.00054/full)), or simplified glacier dynamics (e.g., [Maussion et al., 2019](https://gmd.copernicus.org/articles/12/909/2019/)). [Zekollari et al. (2022)](https://agupubs.onlinelibrary.wiley.com/doi/full/10.1029/2021RG000754) provide a comprehensive review of ice dynamics for mountain glaciers. These methods all allow the glacier to evolve over time in response to the total glacier-wide mass balance. The benefit of volume-area-length scaling and mass redistribution is they are computationally inexpensive compared to simplified glacier dynamics methods. The two options available in PyGEM are OGGM’s flowline model using the shallow ice approximation ([Maussion et al. 2019](https://gmd.copernicus.org/articles/12/909/2019/)) and mass redistribution curves ([Rounce et al. 2020](https://www.frontiersin.org/articles/10.3389/feart.2019.00331/full)).\n",
    "\n",
    "## Option 1: OGGM flowline model using shallow-ice approximation\n",
    "PyGEM has been developed to be compatible with OGGM thereby enabling the use of their ice dynamics flowline model ([Maussion et al. 2019](https://gmd.copernicus.org/articles/12/909/2019/)). The model uses a shallow ice approximation with a depth-integrated flowline model to explicitly compute the flux of ice along the glacier centerline. Model details are fully documented in OGGM’s manual found [here](https://docs.oggm.org/en/latest/ice-dynamics.html).\n",
    "\n",
    "\n",
    "## Option 2: Mass redistribution curves\n",
    "The mass redistribution curves in PyGEM follow those developed by [Huss and Hock (2015)](https://www.frontiersin.org/articles/10.3389/feart.2015.00054/full) based on [Huss et al. (2010)](https://hess.copernicus.org/articles/14/815/2010/hess-14-815-2010.html) but explicitly solve for area and ice thickness changes simultaneously to conserve mass. The approach is only applied to glaciers that have at least three elevation bins. Each year the glacier-wide mass balance is computed (see Mass Balance Section) and the mass is redistributed over the glacier using empirical equations that set the normalized surface elevation change ($\\Delta h$) as a function of the glacier’s elevation bins:\n",
    "$$\\Delta h = (h_{n} + a_{HH2015})^{\\gamma} + b_{HH2015} \\cdot (h_{n} + a_{HH2015}) + c_{HH2015} $$\n",
    "where $h_{n}$ is the normalized elevation according to $\\frac{z_{max} - z_{bin}}{z_{max} - z_{min}}$ and $a_{HH2015)$, $b_{HH2015)$, $c_{HH2015)$, and $\\gamma$ are all calibrated coefficients based on 34 glaciers in the Swiss Alps. These coefficients vary depending on the size of the glacier ([Huss et al., 2010]((https://hess.copernicus.org/articles/14/815/2010/hess-14-815-2010.html))). In order to ensure that mass is conserved, i.e., the integration of the elevation change and glacier area (A) of each bin over all the elevation bins ($nbins$) is equal to the glacier-wide volume change ($\\Delta V$), an ice thickness scaling factor ($f_{s,HH2015}$) must be computed:\n",
    "$$f_{s,HH2015} = \\frac{\\Delta V}{\\sum_{i=0}^{nbins} A_{i} \\cdot \\Delta h_{i}} $$\n",
    "The volume change in each elevation bin ($\\Delta V_{bin}$) is computed as:\n",
    "$$\\Delta V_{bin} = f_{s,HH2015} \\cdot \\Delta h_{bin} \\cdot A_{bin} $$\n",
    "Depending on the bed shape (parabolic, triangular or rectangular) of the glacier, the resulting area, ice thickness ($H$), and width ($W$) can be solved for explicitly based on mass conservation and the use of similar shapes:\n",
    "$$H_{bin,t+1} \\cdot A_{bin,t+1} = H_{bin,t} \\cdot A_{bin,t} + \\Delta V_{bin} $$\n",
    "$$\\frac{H_{bin,t+1}}{H_{bin,t}} \\alpha \\frac{A_{bin,t+1}}{A_bin,t} $$\n",
    "This is a marked improvement over previous studies that have not explicitly solved for the area and ice thickness changes simultaneously, which can lead to mass loss or gain that is then corrected ([Huss and Hock, 2015](https://www.frontiersin.org/articles/10.3389/feart.2015.00054/full)).\n",
    "\n",
    "### Glacier retreat\n",
    "Glacier retreat occurs when the volume change in an elevation bin ($\\Delta V_{bin}$) causes the ice thickness for the next time step to be less than zero. In this case, the ice thickness is set to zero and the remaining volume change is redistributed over the entire glacier according to the mass redistribution described above. \n",
    "\n",
    "### Glacier advance\n",
    "Glacier advance occurs when the ice thickness change exceeds the ice thickness advance threshold (default: 5 m; [Huss and Hock, 2015](https://www.frontiersin.org/articles/10.3389/feart.2015.00054/full)). When this occurs, the ice thickness change is set to 5 m, the area and width of the bin are calculated accordingly, and the excess volume is recorded. The model then calculates the average area and thickness associated with the bins located in the glacier’s terminus, which is defined by the terminus percentage (default: 20%). However, this calculation excludes the bin actually located at the terminus because prior to adding a new elevation bin, the model checks that the bin located at the terminus is “full”. Specifically, the area and ice thickness of the lowermost bin are compared to the terminus’ average and if the area and ice thickness is less than the average, then the lowermost bin is first filled until it reaches the terminus average. This ensures that the lowermost bin is “full” and prevents adding new bins to a glacier that may only have a relatively small excess volume in consecutive years. In other words, if this criterion did not exist, then it would be possible to add new bins over multiple years that had small areas, which would appear as though the glacier was moving down a steep slope.\n",
    "\n",
    "If there is still excess volume remaining after filling the lowermost bin to the terminus average, then a new bin is added below the terminus. The ice thickness in this new bin is set to be equal to the terminus average and the area is computed based on the excess volume. If the area of this bin would be greater than the average area of the terminus, this indicates that an additional bin needs to be added. However, prior to adding an additional bin the excess volume is redistributed over the glacier again. This allows the glacier’s area and thickness to increase and prevents the glacier from having a thin layer of ice that advances down-valley without thickening.\n",
    "\n",
    "There are two exceptions for when a glacier is not allowed to advance to a particular bin. The first exception is if the added bin would be below sea-level, in which case the remaining excess volume is redistributed over the entire glacier. The second exception is if the bin is over a known discontinuous section of the glacier, which is determined based on the initial glacier area. For example, it is possible, albeit unlikely, that a glacier could retreat over a discontinuous section of a glacier and then advance in the future. This discontinuous area is assumed to be a steep vertical drop, hence why a glacier currently does not exist, so a glacier is not allowed to form there in the future. The glacier instead skips over this discontinuous bin and a new bin is added below it."
   ]
  },
  {
   "cell_type": "code",
   "execution_count": null,
   "metadata": {},
   "outputs": [],
   "source": []
  }
 ],
 "metadata": {
  "kernelspec": {
   "display_name": "Python [conda env:oggm_env_wpygem] *",
   "language": "python",
   "name": "conda-env-oggm_env_wpygem-py"
  },
  "language_info": {
   "codemirror_mode": {
    "name": "ipython",
    "version": 3
   },
   "file_extension": ".py",
   "mimetype": "text/x-python",
   "name": "python",
   "nbconvert_exporter": "python",
   "pygments_lexer": "ipython3",
   "version": "3.7.8"
  }
 },
 "nbformat": 4,
 "nbformat_minor": 4
}
