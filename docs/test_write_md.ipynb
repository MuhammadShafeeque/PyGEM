{
 "cells": [
  {
   "cell_type": "markdown",
   "metadata": {},
   "source": [
    "# 1. INTRODUCTION\n",
    "## 1.1 Purpose\n",
    "The Python Glacier Evolution Model (PyGEM) is an open-source glacier evolution model coded in Python that is designed to model the transient evolution of glaciers on regional and global scales. Each glacier is modeled independently using a given time step and elevation bins. The model computes the climatic mass balance (i.e., snow accumulation minus melt plus refreezing) for each elevation bin and each monthly time step. Glacier geometry is updated annually. The model outputs a variety of data including monthly mass balance and its components (accumulation, melt, refreezing, frontal ablation, glacier runoff),  and annual volume, volume below sea level, and area.\n",
    "\n",
    "PyGEM has a modular framework that allows different schemes to be used for model calibration or model physics (e.g., ablation, accumulation, refreezing, glacier dynamics). The most recent version of PyGEM has been made compatible with the Open Global Glacier Model (OGGM; https://oggm.org/) to both leverage the pre-processing tools (e.g., digital elevation models, glacier characteristics) and their advances with respect to modeling glacier dynamics and ice thickness inversions.\n",
    "\n",
    "## 1.2 Spatial and Temporal Resolution\n",
    "Each glacier is modeled independently. The model is currently set up to use a monthly timestep and elevation bins. We plan to add options to include daily timesteps in the future. The elevation bins can be specified in pre-processing with OGGM.\n",
    "\n",
    "## 1.3 Model Inputs\n",
    "The minimum data required to run the model is a glacier inventory, glacier characteristics (ice thickness, hypsometry, etc.), climate data, and mass balance data for calibration (Table 1). The model uses glacier outlines provided by the Randolph Glacier Inventory (RGI Consortium 2017; RGI 6.0 contains 215,547 glaciers globally). For debris-covered glaciers, spatially distributed sub-debris melt enhancement factors can be used to account for the enhanced or suppressed melting depending on the debris thickness (Rounce et al. 2021). OGGM is used to select a digital elevation model (DEM) for each glacier and bin the data according to the glacier central flowlines. OGGM can also be used to estimate each glacier’s initial ice thickness or use existing ice thickness estimates available from the [OGGM Shop](https://docs.oggm.org/en/stable/shop.html).\n",
    "\n",
    "For present-day (2000-2019) model runs, PyGEM currently uses monthly near-surface air temperature and precipitation data from ERA5 (Hersbach et al. 2020). Air temperature lapse rates are estimated using monthly air temperature data from various pressure levels. A second option is available to derive lapse rates from the neighboring pixels; however, this is for glaciers near the coast and therefore is not recommended. Additionally, the monthly temperature standard deviation is required if incorporating sub-monthly temperature variability in ablation (see Section 1.4.1). Note that historical runs (e.g., 1980-2000) are challenging due to the lack of glacier inventories in the past; hence, one can assume the glacier area is constant or run the model in reverse (e.g., 1999, 1998, … , 1980). However, due to nonlinearities associated with the glacier dynamics running if the model is run in reverse and then forward, the glacier areas will be different in 2000 than the initial dataset; hence, caution must be used and the results should be evaluated carefully.\n",
    "\n",
    "For future (e.g., 2000-2100) model runs, PyGEM currently uses an ensemble of General Circulation Models (GCMs) and Shared Socioeconomic Pathways (SSPs) from the Coupled Model Intercomparison Project Phase 6 (CMIP6). The model can also be run using Representative Concentration Pathways (RCPs) associated with CMIP5. Future simulations are adjusted using additive factors for air temperature and multiplicative factors for precipitation to remove any bias between the GCMs and ERA5 data over the calibration period (2000-2019)."
   ]
  },
  {
   "cell_type": "markdown",
   "metadata": {},
   "source": [
    "| Component | Dataset | References |\n",
    "| :--- | :--- | :--- |\n",
    "|Glacier data | 1: Randolph Glacier Inventory Version 6.0 <br>2: Sub-debris melt factors | RGI Consortium (2017)<br> Rounce et al. (2021) |\n",
    "| Climate data | 1: ERA5 monthly air temperature, monthly precipitation, and orography <br>2: ERA5 monthly lapse rates (from pressure level data) and monthly air temperature variance (from ERA5 hourly data) <br>3: CMIP5 or CMIP6 monthly air temperature, monthly precipitation, and orography\n",
    " | Hersbach et al. (2020) |\n",
    "| Mass balance data | 1: Geodetic glacier-wide mass balance (m w.e. yr-1) <br>2: All other data need to be programmed\n",
    " | Hugonnet et al. (2021) |\n",
    "| Frontal ablation data (optional) | 1: Frontal ablation per glacier (Gt yr-1) <br>Used to calibrate marine-terminating glaciers | Osmanoglu et al. (2013; 2014); Minowa et al. (2021); Kochtitzky et al. (2022) |\n",
    "| Ice thickness data (optional) | 1: Spatially distributed ice thickness data <br>Used to calibrate creep parameter to match volume of existing ice thickness dataset | Farinotti et al. (2019) |"
   ]
  },
  {
   "cell_type": "markdown",
   "metadata": {},
   "source": [
    "## 1.4 Model calibration and validation data\n",
    "Model parameters need to be calibrated and results should be validated using some form of mass balance (glaciological, geodetic, or gravimetric), glacier runoff, snowline, or equilibrium line altitude data (Table 1). Additional calibration data is required to account for frontal ablation associated with marine-terminating glaciers. We envision the model continuously incorporating new large-scale systematic datasets as they become available. \n",
    "\n",
    "The model was originally developed to integrate large-scale systematic glacier-wide mass balance data from 2000-2018 in High Mountain Asia (Shean et al. 2020) and now uses a global dataset from 2000-2019 (Hugonnet et al. 2021). The default frontal ablation data is currently from various datasets spanning 2000 to 2020 from the Northern Hemisphere (Kochtitzky et al. Submitted), South America (Minowa et al. 2021), and Antarctica (Osmanoglu et al. 2013; 2014). For model validation, annual and seasonal glaciological glacier-wide mass balance data from 1979 to 2019 have been used (WGMS 2021). \n"
   ]
  },
  {
   "cell_type": "markdown",
   "metadata": {},
   "source": [
    "## 1.5 Parameterization Options\n",
    "The model offers alternative methods for calculating the mass balance components (melt, accumulation, refreezing, and frontal ablation) as well as glacier geometry changes. These vary in level of complexity and computational expense and are summarized in Table 2."
   ]
  },
  {
   "cell_type": "markdown",
   "metadata": {},
   "source": []
  },
  {
   "cell_type": "markdown",
   "metadata": {},
   "source": []
  },
  {
   "cell_type": "markdown",
   "metadata": {},
   "source": [
    "### 2 MASS BALANCE PARAMETERIZATIONS\n",
    "\n",
    "The model computes the climatic mass balance for each elevation bin and timestep, estimates frontal ablation for marine-terminating glaciers at the end of each year (if this process is included), and updates the glacier geometry annually. The convention below follows Cogley et al. (2011). The total glacier-wide mass balance (ΔM) is thus estimated as:"
   ]
  },
  {
   "cell_type": "code",
   "execution_count": 8,
   "metadata": {},
   "outputs": [
    {
     "ename": "SyntaxError",
     "evalue": "invalid syntax (<ipython-input-8-bb687cdafc7b>, line 1)",
     "output_type": "error",
     "traceback": [
      "\u001b[0;36m  File \u001b[0;32m\"<ipython-input-8-bb687cdafc7b>\"\u001b[0;36m, line \u001b[0;32m1\u001b[0m\n\u001b[0;31m    ```{math}\u001b[0m\n\u001b[0m    ^\u001b[0m\n\u001b[0;31mSyntaxError\u001b[0m\u001b[0;31m:\u001b[0m invalid syntax\n"
     ]
    }
   ],
   "source": [
    "```{math}\n",
    ":label: glacier_wide_mb_equation\n",
    "w_{t+1} = (1 + r_{t+1}) s(w_t) + y_{t+1}\n",
    "```\n",
    "\n",
    "See [](#glacier_wide_mb_equation) for more information!"
   ]
  },
  {
   "cell_type": "markdown",
   "metadata": {},
   "source": [
    "$ \\Delta w_{t+1} = w_{t+1} = \\frac{1}{2} (1 + r_{t+1}) s(w_t) + y_{t+1}$"
   ]
  },
  {
   "cell_type": "markdown",
   "metadata": {},
   "source": [
    "$ \\Delta M = B_{clim} + A_{f} / S$"
   ]
  },
  {
   "cell_type": "code",
   "execution_count": null,
   "metadata": {},
   "outputs": [],
   "source": [
    " "
   ]
  }
 ],
 "metadata": {
  "kernelspec": {
   "display_name": "Python [conda env:oggm_env_wpygem] *",
   "language": "python",
   "name": "conda-env-oggm_env_wpygem-py"
  },
  "language_info": {
   "codemirror_mode": {
    "name": "ipython",
    "version": 3
   },
   "file_extension": ".py",
   "mimetype": "text/x-python",
   "name": "python",
   "nbconvert_exporter": "python",
   "pygments_lexer": "ipython3",
   "version": "3.7.8"
  }
 },
 "nbformat": 4,
 "nbformat_minor": 4
}
